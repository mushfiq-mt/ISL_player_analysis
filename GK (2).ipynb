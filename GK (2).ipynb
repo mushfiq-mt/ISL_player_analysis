{
 "cells": [
  {
   "cell_type": "code",
   "execution_count": 2,
   "id": "8e2da07e",
   "metadata": {},
   "outputs": [],
   "source": [
    "import numpy as np\n",
    "import pandas as pd\n",
    "import matplotlib.pyplot as plt\n",
    "import seaborn as sns\n",
    "\n",
    "df=pd.read_csv('GK.csv')"
   ]
  },
  {
   "cell_type": "code",
   "execution_count": 3,
   "id": "bc729125",
   "metadata": {
    "scrolled": true
   },
   "outputs": [
    {
     "data": {
      "text/html": [
       "<div>\n",
       "<style scoped>\n",
       "    .dataframe tbody tr th:only-of-type {\n",
       "        vertical-align: middle;\n",
       "    }\n",
       "\n",
       "    .dataframe tbody tr th {\n",
       "        vertical-align: top;\n",
       "    }\n",
       "\n",
       "    .dataframe thead th {\n",
       "        text-align: right;\n",
       "    }\n",
       "</style>\n",
       "<table border=\"1\" class=\"dataframe\">\n",
       "  <thead>\n",
       "    <tr style=\"text-align: right;\">\n",
       "      <th></th>\n",
       "      <th>Known As</th>\n",
       "      <th>Full Name</th>\n",
       "      <th>Overall</th>\n",
       "      <th>Potential</th>\n",
       "      <th>Value(in Euro)</th>\n",
       "      <th>Positions Played</th>\n",
       "      <th>Best Position</th>\n",
       "      <th>Nationality</th>\n",
       "      <th>Image Link</th>\n",
       "      <th>Age</th>\n",
       "      <th>...</th>\n",
       "      <th>LM Rating</th>\n",
       "      <th>CM Rating</th>\n",
       "      <th>RM Rating</th>\n",
       "      <th>LWB Rating</th>\n",
       "      <th>CDM Rating</th>\n",
       "      <th>RWB Rating</th>\n",
       "      <th>LB Rating</th>\n",
       "      <th>CB Rating</th>\n",
       "      <th>RB Rating</th>\n",
       "      <th>GK Rating</th>\n",
       "    </tr>\n",
       "  </thead>\n",
       "  <tbody>\n",
       "    <tr>\n",
       "      <th>0</th>\n",
       "      <td>G. Singh Sandhu</td>\n",
       "      <td>Gurpreet Singh Sandhu</td>\n",
       "      <td>63</td>\n",
       "      <td>64</td>\n",
       "      <td>350000</td>\n",
       "      <td>GK</td>\n",
       "      <td>GK</td>\n",
       "      <td>India</td>\n",
       "      <td>https://cdn.sofifa.net/players/225/213/23_60.png</td>\n",
       "      <td>30</td>\n",
       "      <td>...</td>\n",
       "      <td>29</td>\n",
       "      <td>30</td>\n",
       "      <td>29</td>\n",
       "      <td>29</td>\n",
       "      <td>30</td>\n",
       "      <td>29</td>\n",
       "      <td>28</td>\n",
       "      <td>29</td>\n",
       "      <td>28</td>\n",
       "      <td>64</td>\n",
       "    </tr>\n",
       "    <tr>\n",
       "      <th>1</th>\n",
       "      <td>A. Singh</td>\n",
       "      <td>Amrinder Singh</td>\n",
       "      <td>61</td>\n",
       "      <td>63</td>\n",
       "      <td>275000</td>\n",
       "      <td>GK</td>\n",
       "      <td>GK</td>\n",
       "      <td>India</td>\n",
       "      <td>https://cdn.sofifa.net/players/223/760/23_60.png</td>\n",
       "      <td>29</td>\n",
       "      <td>...</td>\n",
       "      <td>30</td>\n",
       "      <td>29</td>\n",
       "      <td>30</td>\n",
       "      <td>29</td>\n",
       "      <td>29</td>\n",
       "      <td>29</td>\n",
       "      <td>28</td>\n",
       "      <td>28</td>\n",
       "      <td>28</td>\n",
       "      <td>62</td>\n",
       "    </tr>\n",
       "    <tr>\n",
       "      <th>2</th>\n",
       "      <td>A. Bhattacharya</td>\n",
       "      <td>Arindam Bhattacharya</td>\n",
       "      <td>61</td>\n",
       "      <td>61</td>\n",
       "      <td>160000</td>\n",
       "      <td>GK</td>\n",
       "      <td>GK</td>\n",
       "      <td>India</td>\n",
       "      <td>https://cdn.sofifa.net/players/193/913/23_60.png</td>\n",
       "      <td>32</td>\n",
       "      <td>...</td>\n",
       "      <td>31</td>\n",
       "      <td>38</td>\n",
       "      <td>31</td>\n",
       "      <td>29</td>\n",
       "      <td>34</td>\n",
       "      <td>29</td>\n",
       "      <td>27</td>\n",
       "      <td>28</td>\n",
       "      <td>27</td>\n",
       "      <td>61</td>\n",
       "    </tr>\n",
       "    <tr>\n",
       "      <th>3</th>\n",
       "      <td>T. Rehenesh</td>\n",
       "      <td>TP Rehenesh</td>\n",
       "      <td>60</td>\n",
       "      <td>61</td>\n",
       "      <td>190000</td>\n",
       "      <td>GK</td>\n",
       "      <td>GK</td>\n",
       "      <td>India</td>\n",
       "      <td>https://cdn.sofifa.net/players/248/325/23_60.png</td>\n",
       "      <td>29</td>\n",
       "      <td>...</td>\n",
       "      <td>22</td>\n",
       "      <td>22</td>\n",
       "      <td>22</td>\n",
       "      <td>22</td>\n",
       "      <td>22</td>\n",
       "      <td>22</td>\n",
       "      <td>22</td>\n",
       "      <td>23</td>\n",
       "      <td>22</td>\n",
       "      <td>61</td>\n",
       "    </tr>\n",
       "    <tr>\n",
       "      <th>4</th>\n",
       "      <td>L. Kattimani</td>\n",
       "      <td>Laxmikant Kattimani</td>\n",
       "      <td>59</td>\n",
       "      <td>59</td>\n",
       "      <td>70000</td>\n",
       "      <td>GK</td>\n",
       "      <td>GK</td>\n",
       "      <td>India</td>\n",
       "      <td>https://cdn.sofifa.net/players/217/231/23_60.png</td>\n",
       "      <td>33</td>\n",
       "      <td>...</td>\n",
       "      <td>26</td>\n",
       "      <td>24</td>\n",
       "      <td>26</td>\n",
       "      <td>25</td>\n",
       "      <td>25</td>\n",
       "      <td>25</td>\n",
       "      <td>25</td>\n",
       "      <td>26</td>\n",
       "      <td>25</td>\n",
       "      <td>59</td>\n",
       "    </tr>\n",
       "  </tbody>\n",
       "</table>\n",
       "<p>5 rows × 89 columns</p>\n",
       "</div>"
      ],
      "text/plain": [
       "          Known As              Full Name  Overall  Potential  Value(in Euro)  \\\n",
       "0  G. Singh Sandhu  Gurpreet Singh Sandhu       63         64          350000   \n",
       "1         A. Singh         Amrinder Singh       61         63          275000   \n",
       "2  A. Bhattacharya   Arindam Bhattacharya       61         61          160000   \n",
       "3      T. Rehenesh            TP Rehenesh       60         61          190000   \n",
       "4     L. Kattimani    Laxmikant Kattimani       59         59           70000   \n",
       "\n",
       "  Positions Played Best Position Nationality  \\\n",
       "0               GK            GK       India   \n",
       "1               GK            GK       India   \n",
       "2               GK            GK       India   \n",
       "3               GK            GK       India   \n",
       "4               GK            GK       India   \n",
       "\n",
       "                                         Image Link  Age  ...  LM Rating  \\\n",
       "0  https://cdn.sofifa.net/players/225/213/23_60.png   30  ...         29   \n",
       "1  https://cdn.sofifa.net/players/223/760/23_60.png   29  ...         30   \n",
       "2  https://cdn.sofifa.net/players/193/913/23_60.png   32  ...         31   \n",
       "3  https://cdn.sofifa.net/players/248/325/23_60.png   29  ...         22   \n",
       "4  https://cdn.sofifa.net/players/217/231/23_60.png   33  ...         26   \n",
       "\n",
       "   CM Rating  RM Rating  LWB Rating CDM Rating  RWB Rating  LB Rating  \\\n",
       "0         30         29          29         30          29         28   \n",
       "1         29         30          29         29          29         28   \n",
       "2         38         31          29         34          29         27   \n",
       "3         22         22          22         22          22         22   \n",
       "4         24         26          25         25          25         25   \n",
       "\n",
       "  CB Rating  RB Rating  GK Rating  \n",
       "0        29         28         64  \n",
       "1        28         28         62  \n",
       "2        28         27         61  \n",
       "3        23         22         61  \n",
       "4        26         25         59  \n",
       "\n",
       "[5 rows x 89 columns]"
      ]
     },
     "execution_count": 3,
     "metadata": {},
     "output_type": "execute_result"
    }
   ],
   "source": [
    "df.head()"
   ]
  },
  {
   "cell_type": "code",
   "execution_count": 4,
   "id": "aa5dcfd8",
   "metadata": {},
   "outputs": [
    {
     "name": "stdout",
     "output_type": "stream",
     "text": [
      "Number of missing values in each column:\n",
      "Known As          0\n",
      "Full Name         0\n",
      "Overall           0\n",
      "Potential         0\n",
      "Value(in Euro)    0\n",
      "                 ..\n",
      "RWB Rating        0\n",
      "LB Rating         0\n",
      "CB Rating         0\n",
      "RB Rating         0\n",
      "GK Rating         0\n",
      "Length: 89, dtype: int64\n"
     ]
    }
   ],
   "source": [
    "len(df)\n",
    "missing_values = df.isnull().sum()\n",
    "print(\"Number of missing values in each column:\")\n",
    "print(missing_values)"
   ]
  },
  {
   "cell_type": "code",
   "execution_count": 5,
   "id": "7cac9b65",
   "metadata": {},
   "outputs": [
    {
     "name": "stdout",
     "output_type": "stream",
     "text": [
      "Number of duplicated values in the dataset: 0\n"
     ]
    }
   ],
   "source": [
    "num_duplicates = df.duplicated().sum()\n",
    "\n",
    "print(\"Number of duplicated values in the dataset:\", num_duplicates)"
   ]
  },
  {
   "cell_type": "code",
   "execution_count": 6,
   "id": "b24fa21e",
   "metadata": {},
   "outputs": [],
   "source": [
    "X = df[['Potential','Pace Total','Shooting Total','Passing Total','Physicality Total','Reactions','Jumping','Strength','Goalkeeper Diving','Goalkeeper Handling',' GoalkeeperKicking','Goalkeeper Positioning','Goalkeeper Reflexes','GK Rating']]\n"
   ]
  },
  {
   "cell_type": "code",
   "execution_count": null,
   "id": "e28241b6",
   "metadata": {},
   "outputs": [],
   "source": []
  },
  {
   "cell_type": "code",
   "execution_count": 8,
   "id": "79da1be2",
   "metadata": {},
   "outputs": [
    {
     "name": "stdout",
     "output_type": "stream",
     "text": [
      "                        Potential  Pace Total  Shooting Total  Passing Total  \\\n",
      "Potential                1.000000    0.316830        0.029420       0.187718   \n",
      "Pace Total               0.316830    1.000000        0.705883       0.602620   \n",
      "Shooting Total           0.029420    0.705883        1.000000       0.636521   \n",
      "Passing Total            0.187718    0.602620        0.636521       1.000000   \n",
      "Physicality Total        0.216605    0.745335        0.545341       0.714975   \n",
      "Reactions               -0.006605    0.515981        0.373604       0.539574   \n",
      "Jumping                 -0.034395    0.067845        0.084262       0.013994   \n",
      "Strength                 0.131978    0.301924        0.327862       0.365693   \n",
      "Goalkeeper Diving        0.316830    1.000000        0.705883       0.602620   \n",
      "Goalkeeper Handling      0.029420    0.705883        1.000000       0.636521   \n",
      " GoalkeeperKicking       0.187718    0.602620        0.636521       1.000000   \n",
      "Goalkeeper Positioning   0.216605    0.745335        0.545341       0.714975   \n",
      "Goalkeeper Reflexes      0.252713    0.671339        0.660275       0.675943   \n",
      "GK Rating                0.269613    0.868140        0.779829       0.784898   \n",
      "\n",
      "                        Physicality Total  Reactions   Jumping  Strength  \\\n",
      "Potential                        0.216605  -0.006605 -0.034395  0.131978   \n",
      "Pace Total                       0.745335   0.515981  0.067845  0.301924   \n",
      "Shooting Total                   0.545341   0.373604  0.084262  0.327862   \n",
      "Passing Total                    0.714975   0.539574  0.013994  0.365693   \n",
      "Physicality Total                1.000000   0.678312 -0.149993  0.305476   \n",
      "Reactions                        0.678312   1.000000 -0.164248  0.319695   \n",
      "Jumping                         -0.149993  -0.164248  1.000000 -0.341132   \n",
      "Strength                         0.305476   0.319695 -0.341132  1.000000   \n",
      "Goalkeeper Diving                0.745335   0.515981  0.067845  0.301924   \n",
      "Goalkeeper Handling              0.545341   0.373604  0.084262  0.327862   \n",
      " GoalkeeperKicking               0.714975   0.539574  0.013994  0.365693   \n",
      "Goalkeeper Positioning           1.000000   0.678312 -0.149993  0.305476   \n",
      "Goalkeeper Reflexes              0.698757   0.585322  0.060493  0.135929   \n",
      "GK Rating                        0.876384   0.732775 -0.034981  0.346964   \n",
      "\n",
      "                        Goalkeeper Diving  Goalkeeper Handling  \\\n",
      "Potential                        0.316830             0.029420   \n",
      "Pace Total                       1.000000             0.705883   \n",
      "Shooting Total                   0.705883             1.000000   \n",
      "Passing Total                    0.602620             0.636521   \n",
      "Physicality Total                0.745335             0.545341   \n",
      "Reactions                        0.515981             0.373604   \n",
      "Jumping                          0.067845             0.084262   \n",
      "Strength                         0.301924             0.327862   \n",
      "Goalkeeper Diving                1.000000             0.705883   \n",
      "Goalkeeper Handling              0.705883             1.000000   \n",
      " GoalkeeperKicking               0.602620             0.636521   \n",
      "Goalkeeper Positioning           0.745335             0.545341   \n",
      "Goalkeeper Reflexes              0.671339             0.660275   \n",
      "GK Rating                        0.868140             0.779829   \n",
      "\n",
      "                         GoalkeeperKicking  Goalkeeper Positioning  \\\n",
      "Potential                         0.187718                0.216605   \n",
      "Pace Total                        0.602620                0.745335   \n",
      "Shooting Total                    0.636521                0.545341   \n",
      "Passing Total                     1.000000                0.714975   \n",
      "Physicality Total                 0.714975                1.000000   \n",
      "Reactions                         0.539574                0.678312   \n",
      "Jumping                           0.013994               -0.149993   \n",
      "Strength                          0.365693                0.305476   \n",
      "Goalkeeper Diving                 0.602620                0.745335   \n",
      "Goalkeeper Handling               0.636521                0.545341   \n",
      " GoalkeeperKicking                1.000000                0.714975   \n",
      "Goalkeeper Positioning            0.714975                1.000000   \n",
      "Goalkeeper Reflexes               0.675943                0.698757   \n",
      "GK Rating                         0.784898                0.876384   \n",
      "\n",
      "                        Goalkeeper Reflexes  GK Rating  \n",
      "Potential                          0.252713   0.269613  \n",
      "Pace Total                         0.671339   0.868140  \n",
      "Shooting Total                     0.660275   0.779829  \n",
      "Passing Total                      0.675943   0.784898  \n",
      "Physicality Total                  0.698757   0.876384  \n",
      "Reactions                          0.585322   0.732775  \n",
      "Jumping                            0.060493  -0.034981  \n",
      "Strength                           0.135929   0.346964  \n",
      "Goalkeeper Diving                  0.671339   0.868140  \n",
      "Goalkeeper Handling                0.660275   0.779829  \n",
      " GoalkeeperKicking                 0.675943   0.784898  \n",
      "Goalkeeper Positioning             0.698757   0.876384  \n",
      "Goalkeeper Reflexes                1.000000   0.870993  \n",
      "GK Rating                          0.870993   1.000000  \n"
     ]
    }
   ],
   "source": [
    "correlation_matrix = X.corr()\n",
    "print(correlation_matrix)"
   ]
  },
  {
   "cell_type": "code",
   "execution_count": 9,
   "id": "c1e3252d",
   "metadata": {},
   "outputs": [
    {
     "data": {
      "image/png": "[encoded data removed]",
      "text/plain": [
       "<Figure size 800x600 with 2 Axes>"
      ]
     },
     "metadata": {},
     "output_type": "display_data"
    }
   ],
   "source": [
    "plt.figure(figsize=(8, 6))\n",
    "sns.heatmap(correlation_matrix, annot=True, cmap='coolwarm', fmt='.2f')\n",
    "plt.title('Correlation Heatmap')\n",
    "plt.show()"
   ]
  },
  {
   "cell_type": "markdown",
   "id": "d1e31939",
   "metadata": {},
   "source": [
    "# RandomForest"
   ]
  },
  {
   "cell_type": "code",
   "execution_count": 5,
   "id": "c129f85e",
   "metadata": {},
   "outputs": [
    {
     "name": "stdout",
     "output_type": "stream",
     "text": [
      "All predicted values:\n",
      "[53.81 51.67 59.67 48.88]\n"
     ]
    }
   ],
   "source": [
    "from sklearn.model_selection import train_test_split\n",
    "from sklearn.ensemble import RandomForestRegressor\n",
    "\n",
    "\n",
    "\n",
    "# Define features (X) and target variable (y)\n",
    "X = df[['Potential','Pace Total','Shooting Total','Passing Total','Physicality Total','Reactions','Jumping','Strength','Goalkeeper Diving','Goalkeeper Handling',' GoalkeeperKicking','Goalkeeper Positioning','Goalkeeper Reflexes','GK Rating']]\n",
    "y = df['Overall']  # Target variable\n",
    "\n",
    "# Split the data into training and testing sets (adjust test_size as needed)\n",
    "X_train, X_test, y_train, y_test = train_test_split(X, y, test_size=0.1, random_state=1)\n",
    "\n",
    "# Initialize the model (Random Forest Regression as an example)\n",
    "model = RandomForestRegressor(random_state=42)\n",
    "\n",
    "# Fit the model on the training data\n",
    "model.fit(X_train, y_train)\n",
    "\n",
    "# Predict on the test set\n",
    "y_pred = model.predict(X_test)\n",
    "\n",
    "print(\"All predicted values:\")\n",
    "print(y_pred)"
   ]
  },
  {
   "cell_type": "code",
   "execution_count": 6,
   "id": "97bb9b32",
   "metadata": {},
   "outputs": [
    {
     "name": "stdout",
     "output_type": "stream",
     "text": [
      "Mean Squared Error: 0.06707499999999908\n",
      "R-squared: 0.9958563706563707\n"
     ]
    }
   ],
   "source": [
    "from sklearn.metrics import mean_squared_error, r2_score\n",
    "\n",
    "# Evaluate the model\n",
    "mse = mean_squared_error(y_test, y_pred)\n",
    "r2 = r2_score(y_test, y_pred)\n",
    "\n",
    "print(f\"Mean Squared Error: {mse}\")\n",
    "print(f\"R-squared: {r2}\")"
   ]
  },
  {
   "cell_type": "code",
   "execution_count": 7,
   "id": "e01e1881",
   "metadata": {},
   "outputs": [
    {
     "name": "stdout",
     "output_type": "stream",
     "text": [
      "Details of the player with the highest predicted overall value:\n",
      "Known As          T. Rehenesh\n",
      "Full Name         TP Rehenesh\n",
      "Overall                    60\n",
      "Potential                  61\n",
      "Value(in Euro)         190000\n",
      "                     ...     \n",
      "RWB Rating                 22\n",
      "LB Rating                  22\n",
      "CB Rating                  23\n",
      "RB Rating                  22\n",
      "GK Rating                  61\n",
      "Name: 3, Length: 89, dtype: object\n"
     ]
    }
   ],
   "source": [
    "# Find the index of the highest predicted overall value\n",
    "highest_index = y_pred.argmax()\n",
    "\n",
    "# Retrieve the details of the player with the highest predicted overall value\n",
    "highest_player_details = df.iloc[X_test.index[highest_index]]\n",
    "\n",
    "# Print details of the player with the highest predicted overall value\n",
    "print(\"Details of the player with the highest predicted overall value:\")\n",
    "print(highest_player_details)"
   ]
  },
  {
   "cell_type": "code",
   "execution_count": 8,
   "id": "83c72687",
   "metadata": {},
   "outputs": [
    {
     "name": "stdout",
     "output_type": "stream",
     "text": [
      "Details of the top 3 players with the highest predicted overall value:\n",
      "Known As          T. Rehenesh\n",
      "Full Name         TP Rehenesh\n",
      "Overall                    60\n",
      "Potential                  61\n",
      "Value(in Euro)         190000\n",
      "                     ...     \n",
      "RWB Rating                 22\n",
      "LB Rating                  22\n",
      "CB Rating                  23\n",
      "RB Rating                  22\n",
      "GK Rating                  61\n",
      "Name: 3, Length: 89, dtype: object\n",
      "Known As               M. Michu\n",
      "Full Name         Mirshad Michu\n",
      "Overall                      54\n",
      "Potential                    56\n",
      "Value(in Euro)            90000\n",
      "                      ...      \n",
      "RWB Rating                   20\n",
      "LB Rating                    19\n",
      "CB Rating                    20\n",
      "RB Rating                    19\n",
      "GK Rating                    55\n",
      "Name: 14, Length: 89, dtype: object\n",
      "Known As                K. Singh\n",
      "Full Name         Karanjit Singh\n",
      "Overall                       52\n",
      "Potential                     52\n",
      "Value(in Euro)              9000\n",
      "                       ...      \n",
      "RWB Rating                    26\n",
      "LB Rating                     26\n",
      "CB Rating                     26\n",
      "RB Rating                     26\n",
      "GK Rating                     52\n",
      "Name: 19, Length: 89, dtype: object\n"
     ]
    }
   ],
   "source": [
    "# Find the indices of the top 3 highest predicted overall values\n",
    "top_3_indices = y_pred.argsort()[-3:][::-1]\n",
    "\n",
    "# Retrieve and print details of the top 3 players with the highest predicted overall value\n",
    "print(\"Details of the top 3 players with the highest predicted overall value:\")\n",
    "for index in top_3_indices:\n",
    "    player_details = df.iloc[X_test.index[index]]\n",
    "    print(player_details)"
   ]
  },
  {
   "cell_type": "code",
   "execution_count": 9,
   "id": "60b8654e",
   "metadata": {},
   "outputs": [
    {
     "name": "stdout",
     "output_type": "stream",
     "text": [
      "Details of the player with the lowest predicted overall value:\n",
      "Known As              S. Padattil\n",
      "Full Name         Sharon Padattil\n",
      "Overall                        49\n",
      "Potential                      58\n",
      "Value(in Euro)              90000\n",
      "                       ...       \n",
      "RWB Rating                     18\n",
      "LB Rating                      18\n",
      "CB Rating                      21\n",
      "RB Rating                      18\n",
      "GK Rating                      50\n",
      "Name: 29, Length: 89, dtype: object\n"
     ]
    }
   ],
   "source": [
    "y_pred = model.predict(X_test)\n",
    "\n",
    "# Find the index of the lowest predicted overall value\n",
    "lowest_index = y_pred.argmin()\n",
    "\n",
    "# Retrieve the details of the player with the lowest predicted overall value\n",
    "lowest_player_details = df.iloc[X_test.index[lowest_index]]\n",
    "\n",
    "# Print details of the player with the lowest predicted overall value\n",
    "print(\"Details of the player with the lowest predicted overall value:\")\n",
    "print(lowest_player_details)"
   ]
  },
  {
   "cell_type": "code",
   "execution_count": 10,
   "id": "8862e7ef",
   "metadata": {},
   "outputs": [
    {
     "name": "stdout",
     "output_type": "stream",
     "text": [
      "Details of the Indian player with the highest predicted overall value:\n",
      "Known As               A. Bhattacharya\n",
      "Full Name         Arindam Bhattacharya\n",
      "Overall                             61\n",
      "Potential                           61\n",
      "Value(in Euro)                  160000\n",
      "                          ...         \n",
      "RWB Rating                          29\n",
      "LB Rating                           27\n",
      "CB Rating                           28\n",
      "RB Rating                           27\n",
      "GK Rating                           61\n",
      "Name: 2, Length: 89, dtype: object\n"
     ]
    }
   ],
   "source": [
    "# Filter the original dataframe for Indian players\n",
    "indian_players_df = df[df['Nationality'] == 'India']\n",
    "\n",
    "# Get the indices of Indian players in the original dataframe\n",
    "indian_players_indices = indian_players_df.index.tolist()\n",
    "\n",
    "# Filter the predictions to only include Indian players from the test set\n",
    "indian_players_predictions = y_pred[X_test.index.isin(indian_players_indices)]\n",
    "\n",
    "if len(indian_players_predictions) > 0:\n",
    "    # Find the index of the highest predicted overall value among Indian players\n",
    "    highest_indian_index = indian_players_predictions.argmax()\n",
    "\n",
    "    # Retrieve the index of the player with the highest predicted overall value among Indian players\n",
    "    index_in_indian_players = indian_players_indices[highest_indian_index]\n",
    "\n",
    "    # Retrieve the details of the Indian player with the highest predicted overall value\n",
    "    highest_indian_player_details = df.iloc[index_in_indian_players]\n",
    "\n",
    "    # Print details of the Indian player with the highest predicted overall value\n",
    "    print(\"Details of the Indian player with the highest predicted overall value:\")\n",
    "    print(highest_indian_player_details)\n",
    "else:\n",
    "    print(\"No Indian players in the test set.\")"
   ]
  },
  {
   "cell_type": "code",
   "execution_count": null,
   "id": "17398b09",
   "metadata": {},
   "outputs": [],
   "source": []
  },
  {
   "cell_type": "code",
   "execution_count": 11,
   "id": "3e994759",
   "metadata": {},
   "outputs": [
    {
     "name": "stdout",
     "output_type": "stream",
     "text": [
      "Details of the top three Indian players with the highest predicted overall value:\n",
      "          Known As              Full Name  Overall  Potential  Value(in Euro)  \\\n",
      "2  A. Bhattacharya   Arindam Bhattacharya       61         61          160000   \n",
      "0  G. Singh Sandhu  Gurpreet Singh Sandhu       63         64          350000   \n",
      "1         A. Singh         Amrinder Singh       61         63          275000   \n",
      "\n",
      "  Positions Played Best Position Nationality  \\\n",
      "2               GK            GK       India   \n",
      "0               GK            GK       India   \n",
      "1               GK            GK       India   \n",
      "\n",
      "                                         Image Link  Age  ...  LM Rating  \\\n",
      "2  https://cdn.sofifa.net/players/193/913/23_60.png   32  ...         31   \n",
      "0  https://cdn.sofifa.net/players/225/213/23_60.png   30  ...         29   \n",
      "1  https://cdn.sofifa.net/players/223/760/23_60.png   29  ...         30   \n",
      "\n",
      "   CM Rating  RM Rating  LWB Rating CDM Rating  RWB Rating  LB Rating  \\\n",
      "2         38         31          29         34          29         27   \n",
      "0         30         29          29         30          29         28   \n",
      "1         29         30          29         29          29         28   \n",
      "\n",
      "  CB Rating  RB Rating  GK Rating  \n",
      "2        28         27         61  \n",
      "0        29         28         64  \n",
      "1        28         28         62  \n",
      "\n",
      "[3 rows x 89 columns]\n"
     ]
    }
   ],
   "source": [
    "# Filter the original dataframe for Indian players\n",
    "indian_players_df = df[df['Nationality'] == 'India']\n",
    "\n",
    "# Get the indices of Indian players in the original dataframe\n",
    "indian_players_indices = indian_players_df.index.tolist()\n",
    "\n",
    "# Filter the predictions to only include Indian players from the test set\n",
    "indian_players_predictions = y_pred[X_test.index.isin(indian_players_indices)]\n",
    "\n",
    "if len(indian_players_predictions) > 0:\n",
    "    # Sort the Indian players' predictions and indices in descending order\n",
    "    sorted_indices = sorted(range(len(indian_players_predictions)), key=lambda i: indian_players_predictions[i], reverse=True)[:3]\n",
    "\n",
    "    # Retrieve the indices of the top three players among Indian players\n",
    "    top_three_indices = [indian_players_indices[i] for i in sorted_indices]\n",
    "\n",
    "    # Retrieve the details of the top three Indian players with the highest predicted overall value\n",
    "    top_three_indian_players = df.iloc[top_three_indices]\n",
    "\n",
    "    # Print details of the top three Indian players with the highest predicted overall value\n",
    "    print(\"Details of the top three Indian players with the highest predicted overall value:\")\n",
    "    print(top_three_indian_players)\n",
    "else:\n",
    "    print(\"No Indian players in the test set.\")\n",
    "\n"
   ]
  },
  {
   "cell_type": "markdown",
   "id": "0467ee29",
   "metadata": {},
   "source": [
    "# LinearRegression"
   ]
  },
  {
   "cell_type": "code",
   "execution_count": 12,
   "id": "2980c022",
   "metadata": {},
   "outputs": [
    {
     "name": "stdout",
     "output_type": "stream",
     "text": [
      "All predicted values:\n",
      "[54.11428128 52.22133433 59.96024333 48.9811896  48.0983939  49.92996474]\n"
     ]
    }
   ],
   "source": [
    "from sklearn.linear_model import LinearRegression\n",
    "from sklearn.model_selection import train_test_split\n",
    "\n",
    "# Assuming 'X' contains the features and 'y' contains the target variable\n",
    "\n",
    "# Split the data into training and testing sets\n",
    "X_train, X_test, y_train, y_test = train_test_split(X, y, test_size=0.15, random_state=1)\n",
    "\n",
    "# Initialize the linear regression model\n",
    "linear_reg = LinearRegression()\n",
    "\n",
    "# Fit the model to the training data\n",
    "linear_reg.fit(X_train, y_train)\n",
    "\n",
    "# Make predictions on the test data\n",
    "y_pred = linear_reg.predict(X_test)\n",
    "\n",
    "print(\"All predicted values:\")\n",
    "print(y_pred)\n"
   ]
  },
  {
   "cell_type": "code",
   "execution_count": 13,
   "id": "62888243",
   "metadata": {},
   "outputs": [
    {
     "name": "stdout",
     "output_type": "stream",
     "text": [
      "Mean Squared Error: 0.013094969410378991\n",
      "R-squared: 0.9991886077473775\n",
      "Coefficients: [-0.04521597  0.05769387  0.05258495  0.01479164  0.06659214  0.04650555\n",
      " -0.01029226  0.00302446  0.05769387  0.05258495  0.01479164  0.06659214\n",
      "  0.12984578  0.46277836]\n",
      "Intercept: 2.091205647959569\n"
     ]
    }
   ],
   "source": [
    "from sklearn.metrics import mean_squared_error, r2_score\n",
    "\n",
    "# Evaluate the model\n",
    "mse = mean_squared_error(y_test, y_pred)\n",
    "r2 = r2_score(y_test, y_pred)\n",
    "\n",
    "print(f\"Mean Squared Error: {mse}\")\n",
    "print(f\"R-squared: {r2}\")\n",
    "\n",
    "# To print coefficients and intercept\n",
    "print(\"Coefficients:\", linear_reg.coef_)\n",
    "print(\"Intercept:\", linear_reg.intercept_)"
   ]
  },
  {
   "cell_type": "code",
   "execution_count": 14,
   "id": "837d8c91",
   "metadata": {},
   "outputs": [
    {
     "name": "stdout",
     "output_type": "stream",
     "text": [
      "Details of the player with the highest predicted overall value:\n",
      "Known As          T. Rehenesh\n",
      "Full Name         TP Rehenesh\n",
      "Overall                    60\n",
      "Potential                  61\n",
      "Value(in Euro)         190000\n",
      "                     ...     \n",
      "RWB Rating                 22\n",
      "LB Rating                  22\n",
      "CB Rating                  23\n",
      "RB Rating                  22\n",
      "GK Rating                  61\n",
      "Name: 3, Length: 89, dtype: object\n"
     ]
    }
   ],
   "source": [
    "# Find the index of the highest predicted overall value\n",
    "highest_index = y_pred.argmax()\n",
    "\n",
    "# Retrieve the details of the player with the highest predicted overall value\n",
    "highest_player_details = df.iloc[X_test.index[highest_index]]\n",
    "\n",
    "# Print details of the player with the highest predicted overall value\n",
    "print(\"Details of the player with the highest predicted overall value:\")\n",
    "print(highest_player_details)"
   ]
  },
  {
   "cell_type": "code",
   "execution_count": 15,
   "id": "69a3f300",
   "metadata": {},
   "outputs": [
    {
     "name": "stdout",
     "output_type": "stream",
     "text": [
      "Details of the top three Indian players with the highest predicted overall value:\n",
      "          Known As              Full Name  Overall  Potential  Value(in Euro)  \\\n",
      "2  A. Bhattacharya   Arindam Bhattacharya       61         61          160000   \n",
      "0  G. Singh Sandhu  Gurpreet Singh Sandhu       63         64          350000   \n",
      "1         A. Singh         Amrinder Singh       61         63          275000   \n",
      "\n",
      "  Positions Played Best Position Nationality  \\\n",
      "2               GK            GK       India   \n",
      "0               GK            GK       India   \n",
      "1               GK            GK       India   \n",
      "\n",
      "                                         Image Link  Age  ...  LM Rating  \\\n",
      "2  https://cdn.sofifa.net/players/193/913/23_60.png   32  ...         31   \n",
      "0  https://cdn.sofifa.net/players/225/213/23_60.png   30  ...         29   \n",
      "1  https://cdn.sofifa.net/players/223/760/23_60.png   29  ...         30   \n",
      "\n",
      "   CM Rating  RM Rating  LWB Rating CDM Rating  RWB Rating  LB Rating  \\\n",
      "2         38         31          29         34          29         27   \n",
      "0         30         29          29         30          29         28   \n",
      "1         29         30          29         29          29         28   \n",
      "\n",
      "  CB Rating  RB Rating  GK Rating  \n",
      "2        28         27         61  \n",
      "0        29         28         64  \n",
      "1        28         28         62  \n",
      "\n",
      "[3 rows x 89 columns]\n"
     ]
    }
   ],
   "source": [
    "# Filter the original dataframe for Indian players\n",
    "indian_players_df = df[df['Nationality'] == 'India']\n",
    "\n",
    "# Get the indices of Indian players in the original dataframe\n",
    "indian_players_indices = indian_players_df.index.tolist()\n",
    "\n",
    "# Filter the predictions to only include Indian players from the test set\n",
    "indian_players_predictions = y_pred[X_test.index.isin(indian_players_indices)]\n",
    "\n",
    "if len(indian_players_predictions) > 0:\n",
    "    # Sort the Indian players' predictions and indices in descending order\n",
    "    sorted_indices = sorted(range(len(indian_players_predictions)), key=lambda i: indian_players_predictions[i], reverse=True)[:3]\n",
    "\n",
    "    # Retrieve the indices of the top three players among Indian players\n",
    "    top_three_indices = [indian_players_indices[i] for i in sorted_indices]\n",
    "\n",
    "    # Retrieve the details of the top three Indian players with the highest predicted overall value\n",
    "    top_three_indian_players = df.iloc[top_three_indices]\n",
    "\n",
    "    # Print details of the top three Indian players with the highest predicted overall value\n",
    "    print(\"Details of the top three Indian players with the highest predicted overall value:\")\n",
    "    print(top_three_indian_players)\n",
    "else:\n",
    "    print(\"No Indian players in the test set.\")\n"
   ]
  },
  {
   "cell_type": "markdown",
   "id": "5c26aebe",
   "metadata": {},
   "source": [
    "# DecisionTree"
   ]
  },
  {
   "cell_type": "code",
   "execution_count": 16,
   "id": "78c75338",
   "metadata": {},
   "outputs": [
    {
     "name": "stdout",
     "output_type": "stream",
     "text": [
      "All predicted values:\n",
      "[50. 54. 50. 53. 54. 49.]\n"
     ]
    }
   ],
   "source": [
    "from sklearn.tree import DecisionTreeRegressor\n",
    "from sklearn.model_selection import train_test_split\n",
    "\n",
    "\n",
    "# Assuming 'X' contains the features and 'y' contains the target variable\n",
    "\n",
    "# Split the data into training and testing sets\n",
    "X_train, X_test, y_train, y_test = train_test_split(X, y, test_size=0.15, random_state=42)\n",
    "\n",
    "# Initialize the decision tree regressor model\n",
    "tree_reg = DecisionTreeRegressor()\n",
    "\n",
    "# Fit the model to the training data\n",
    "tree_reg.fit(X_train, y_train)\n",
    "\n",
    "# Make predictions on the test data\n",
    "y_pred = tree_reg.predict(X_test)\n",
    "\n",
    "# Print all predicted values\n",
    "print(\"All predicted values:\")\n",
    "print(y_pred)\n"
   ]
  },
  {
   "cell_type": "code",
   "execution_count": 17,
   "id": "be42c60a",
   "metadata": {},
   "outputs": [
    {
     "name": "stdout",
     "output_type": "stream",
     "text": [
      "Mean Squared Error: 0.16666666666666666\n",
      "R-squared: 0.9574468085106383\n"
     ]
    }
   ],
   "source": [
    "from sklearn.metrics import mean_squared_error, r2_score\n",
    "\n",
    "# Evaluate the model\n",
    "mse = mean_squared_error(y_test, y_pred)\n",
    "r2 = r2_score(y_test, y_pred)\n",
    "\n",
    "print(f\"Mean Squared Error: {mse}\")\n",
    "print(f\"R-squared: {r2}\")"
   ]
  },
  {
   "cell_type": "code",
   "execution_count": 18,
   "id": "daa27d38",
   "metadata": {},
   "outputs": [
    {
     "name": "stdout",
     "output_type": "stream",
     "text": [
      "Details of the player with the highest predicted overall value:\n",
      "Known As              P. Lachenpa\n",
      "Full Name         Phurba Lachenpa\n",
      "Overall                        54\n",
      "Potential                      62\n",
      "Value(in Euro)             210000\n",
      "                       ...       \n",
      "RWB Rating                     20\n",
      "LB Rating                      20\n",
      "CB Rating                      21\n",
      "RB Rating                      20\n",
      "GK Rating                      55\n",
      "Name: 13, Length: 89, dtype: object\n"
     ]
    }
   ],
   "source": [
    "# Find the index of the highest predicted overall value\n",
    "highest_index = y_pred.argmax()\n",
    "\n",
    "# Retrieve the details of the player with the highest predicted overall value\n",
    "highest_player_details = df.iloc[X_test.index[highest_index]]\n",
    "\n",
    "# Print details of the player with the highest predicted overall value\n",
    "print(\"Details of the player with the highest predicted overall value:\")\n",
    "print(highest_player_details)"
   ]
  },
  {
   "cell_type": "code",
   "execution_count": 19,
   "id": "bdc9a5b2",
   "metadata": {},
   "outputs": [
    {
     "name": "stdout",
     "output_type": "stream",
     "text": [
      "Details of the top three Indian players with the highest predicted overall value:\n",
      "       Known As            Full Name  Overall  Potential  Value(in Euro)  \\\n",
      "1      A. Singh       Amrinder Singh       61         63          275000   \n",
      "4  L. Kattimani  Laxmikant Kattimani       59         59           70000   \n",
      "3   T. Rehenesh          TP Rehenesh       60         61          190000   \n",
      "\n",
      "  Positions Played Best Position Nationality  \\\n",
      "1               GK            GK       India   \n",
      "4               GK            GK       India   \n",
      "3               GK            GK       India   \n",
      "\n",
      "                                         Image Link  Age  ...  LM Rating  \\\n",
      "1  https://cdn.sofifa.net/players/223/760/23_60.png   29  ...         30   \n",
      "4  https://cdn.sofifa.net/players/217/231/23_60.png   33  ...         26   \n",
      "3  https://cdn.sofifa.net/players/248/325/23_60.png   29  ...         22   \n",
      "\n",
      "   CM Rating  RM Rating  LWB Rating CDM Rating  RWB Rating  LB Rating  \\\n",
      "1         29         30          29         29          29         28   \n",
      "4         24         26          25         25          25         25   \n",
      "3         22         22          22         22          22         22   \n",
      "\n",
      "  CB Rating  RB Rating  GK Rating  \n",
      "1        28         28         62  \n",
      "4        26         25         59  \n",
      "3        23         22         61  \n",
      "\n",
      "[3 rows x 89 columns]\n"
     ]
    }
   ],
   "source": [
    "# Filter the original dataframe for Indian players\n",
    "indian_players_df = df[df['Nationality'] == 'India']\n",
    "\n",
    "# Get the indices of Indian players in the original dataframe\n",
    "indian_players_indices = indian_players_df.index.tolist()\n",
    "\n",
    "# Filter the predictions to only include Indian players from the test set\n",
    "indian_players_predictions = y_pred[X_test.index.isin(indian_players_indices)]\n",
    "\n",
    "if len(indian_players_predictions) > 0:\n",
    "    # Sort the Indian players' predictions and indices in descending order\n",
    "    sorted_indices = sorted(range(len(indian_players_predictions)), key=lambda i: indian_players_predictions[i], reverse=True)[:3]\n",
    "\n",
    "    # Retrieve the indices of the top three players among Indian players\n",
    "    top_three_indices = [indian_players_indices[i] for i in sorted_indices]\n",
    "\n",
    "    # Retrieve the details of the top three Indian players with the highest predicted overall value\n",
    "    top_three_indian_players = df.iloc[top_three_indices]\n",
    "\n",
    "    # Print details of the top three Indian players with the highest predicted overall value\n",
    "    print(\"Details of the top three Indian players with the highest predicted overall value:\")\n",
    "    print(top_three_indian_players)\n",
    "else:\n",
    "    print(\"No Indian players in the test set.\")"
   ]
  },
  {
   "cell_type": "markdown",
   "id": "2656f8a6",
   "metadata": {},
   "source": [
    "# Support Vector Regression"
   ]
  },
  {
   "cell_type": "code",
   "execution_count": 20,
   "id": "9f84f0d2",
   "metadata": {},
   "outputs": [
    {
     "name": "stdout",
     "output_type": "stream",
     "text": [
      "All predicted values:\n",
      "[50.3575421  53.05527505 50.91106242 52.05702289 53.84108648 50.04805413]\n"
     ]
    }
   ],
   "source": [
    "from sklearn.svm import SVR\n",
    "from sklearn.model_selection import train_test_split\n",
    "\n",
    "# Assuming 'X' contains the features and 'y' contains the target variable\n",
    "\n",
    "# Split the data into training and testing sets\n",
    "X_train, X_test, y_train, y_test = train_test_split(X, y, test_size=0.15, random_state=42)\n",
    "\n",
    "# Initialize the Support Vector Machine for Regression (SVR) model\n",
    "svm_reg = SVR(kernel='rbf')  # 'rbf' kernel is often used for non-linear relationships\n",
    "\n",
    "# Fit the model to the training data\n",
    "svm_reg.fit(X_train, y_train)\n",
    "\n",
    "# Make predictions on the test data\n",
    "y_pred = svm_reg.predict(X_test)\n",
    "\n",
    "# Print all predicted values\n",
    "print(\"All predicted values:\")\n",
    "print(y_pred)\n"
   ]
  },
  {
   "cell_type": "code",
   "execution_count": 21,
   "id": "e94dffbd",
   "metadata": {},
   "outputs": [
    {
     "name": "stdout",
     "output_type": "stream",
     "text": [
      "Mean Squared Error: 0.4962164838603147\n",
      "R-squared: 0.8733064296526856\n"
     ]
    }
   ],
   "source": [
    "from sklearn.metrics import mean_squared_error, r2_score\n",
    "\n",
    "# Evaluate the model\n",
    "mse = mean_squared_error(y_test, y_pred)\n",
    "r2 = r2_score(y_test, y_pred)\n",
    "\n",
    "print(f\"Mean Squared Error: {mse}\")\n",
    "print(f\"R-squared: {r2}\")"
   ]
  },
  {
   "cell_type": "code",
   "execution_count": 22,
   "id": "f5b13bbf",
   "metadata": {},
   "outputs": [
    {
     "name": "stdout",
     "output_type": "stream",
     "text": [
      "Details of the player with the highest predicted overall value:\n",
      "Known As               G. Singh\n",
      "Full Name         Gurmeet Singh\n",
      "Overall                      54\n",
      "Potential                    64\n",
      "Value(in Euro)           210000\n",
      "                      ...      \n",
      "RWB Rating                   19\n",
      "LB Rating                    19\n",
      "CB Rating                    21\n",
      "RB Rating                    19\n",
      "GK Rating                    55\n",
      "Name: 15, Length: 89, dtype: object\n"
     ]
    }
   ],
   "source": [
    "# Find the index of the highest predicted overall value\n",
    "highest_index = y_pred.argmax()\n",
    "\n",
    "# Retrieve the details of the player with the highest predicted overall value\n",
    "highest_player_details = df.iloc[X_test.index[highest_index]]\n",
    "\n",
    "# Print details of the player with the highest predicted overall value\n",
    "print(\"Details of the player with the highest predicted overall value:\")\n",
    "print(highest_player_details)"
   ]
  },
  {
   "cell_type": "code",
   "execution_count": 23,
   "id": "1bdd915f",
   "metadata": {},
   "outputs": [
    {
     "name": "stdout",
     "output_type": "stream",
     "text": [
      "Details of the top three Indian players with the highest predicted overall value:\n",
      "       Known As            Full Name  Overall  Potential  Value(in Euro)  \\\n",
      "4  L. Kattimani  Laxmikant Kattimani       59         59           70000   \n",
      "1      A. Singh       Amrinder Singh       61         63          275000   \n",
      "3   T. Rehenesh          TP Rehenesh       60         61          190000   \n",
      "\n",
      "  Positions Played Best Position Nationality  \\\n",
      "4               GK            GK       India   \n",
      "1               GK            GK       India   \n",
      "3               GK            GK       India   \n",
      "\n",
      "                                         Image Link  Age  ...  LM Rating  \\\n",
      "4  https://cdn.sofifa.net/players/217/231/23_60.png   33  ...         26   \n",
      "1  https://cdn.sofifa.net/players/223/760/23_60.png   29  ...         30   \n",
      "3  https://cdn.sofifa.net/players/248/325/23_60.png   29  ...         22   \n",
      "\n",
      "   CM Rating  RM Rating  LWB Rating CDM Rating  RWB Rating  LB Rating  \\\n",
      "4         24         26          25         25          25         25   \n",
      "1         29         30          29         29          29         28   \n",
      "3         22         22          22         22          22         22   \n",
      "\n",
      "  CB Rating  RB Rating  GK Rating  \n",
      "4        26         25         59  \n",
      "1        28         28         62  \n",
      "3        23         22         61  \n",
      "\n",
      "[3 rows x 89 columns]\n"
     ]
    }
   ],
   "source": [
    "# Filter the original dataframe for Indian players\n",
    "indian_players_df = df[df['Nationality'] == 'India']\n",
    "\n",
    "# Get the indices of Indian players in the original dataframe\n",
    "indian_players_indices = indian_players_df.index.tolist()\n",
    "\n",
    "# Filter the predictions to only include Indian players from the test set\n",
    "indian_players_predictions = y_pred[X_test.index.isin(indian_players_indices)]\n",
    "\n",
    "if len(indian_players_predictions) > 0:\n",
    "    # Sort the Indian players' predictions and indices in descending order\n",
    "    sorted_indices = sorted(range(len(indian_players_predictions)), key=lambda i: indian_players_predictions[i], reverse=True)[:3]\n",
    "\n",
    "    # Retrieve the indices of the top three players among Indian players\n",
    "    top_three_indices = [indian_players_indices[i] for i in sorted_indices]\n",
    "\n",
    "    # Retrieve the details of the top three Indian players with the highest predicted overall value\n",
    "    top_three_indian_players = df.iloc[top_three_indices]\n",
    "\n",
    "    # Print details of the top three Indian players with the highest predicted overall value\n",
    "    print(\"Details of the top three Indian players with the highest predicted overall value:\")\n",
    "    print(top_three_indian_players)\n",
    "else:\n",
    "    print(\"No Indian players in the test set.\")"
   ]
  },
  {
   "cell_type": "markdown",
   "id": "65a2d51e",
   "metadata": {},
   "source": [
    "# K-Nearest Neighbors (KNN)"
   ]
  },
  {
   "cell_type": "code",
   "execution_count": 24,
   "id": "b38b8a9c",
   "metadata": {},
   "outputs": [
    {
     "name": "stdout",
     "output_type": "stream",
     "text": [
      "All predicted values:\n",
      "[48.6 52.2 53.4 50.4 50.8 54. ]\n"
     ]
    }
   ],
   "source": [
    "from sklearn.neighbors import KNeighborsRegressor\n",
    "from sklearn.model_selection import train_test_split\n",
    "\n",
    "# Assuming 'X' contains the features and 'y' contains the target variable\n",
    "\n",
    "# Split the data into training and testing sets\n",
    "X_train, X_test, y_train, y_test = train_test_split(X, y, test_size=0.15, random_state=0)\n",
    "\n",
    "# Initialize the KNN regressor model (with, for instance, k=5 neighbors)\n",
    "knn_reg = KNeighborsRegressor(n_neighbors=5)\n",
    "\n",
    "# Fit the model to the training data\n",
    "knn_reg.fit(X_train, y_train)\n",
    "\n",
    "# Make predictions on the test data\n",
    "y_pred = knn_reg.predict(X_test)\n",
    "\n",
    "# Print all predicted values\n",
    "print(\"All predicted values:\")\n",
    "print(y_pred)\n"
   ]
  },
  {
   "cell_type": "code",
   "execution_count": 25,
   "id": "9c017064",
   "metadata": {},
   "outputs": [
    {
     "name": "stdout",
     "output_type": "stream",
     "text": [
      "Mean Squared Error: 0.19333333333333222\n",
      "R-squared: 0.9400000000000004\n"
     ]
    }
   ],
   "source": [
    "from sklearn.metrics import mean_squared_error, r2_score\n",
    "\n",
    "# Evaluate the model\n",
    "mse = mean_squared_error(y_test, y_pred)\n",
    "r2 = r2_score(y_test, y_pred)\n",
    "\n",
    "print(f\"Mean Squared Error: {mse}\")\n",
    "print(f\"R-squared: {r2}\")"
   ]
  },
  {
   "cell_type": "code",
   "execution_count": 26,
   "id": "eccd23b4",
   "metadata": {},
   "outputs": [
    {
     "name": "stdout",
     "output_type": "stream",
     "text": [
      "Details of the player with the highest predicted overall value:\n",
      "Known As               G. Singh\n",
      "Full Name         Gurmeet Singh\n",
      "Overall                      54\n",
      "Potential                    64\n",
      "Value(in Euro)           210000\n",
      "                      ...      \n",
      "RWB Rating                   19\n",
      "LB Rating                    19\n",
      "CB Rating                    21\n",
      "RB Rating                    19\n",
      "GK Rating                    55\n",
      "Name: 15, Length: 89, dtype: object\n"
     ]
    }
   ],
   "source": [
    "# Find the index of the highest predicted overall value\n",
    "highest_index = y_pred.argmax()\n",
    "\n",
    "# Retrieve the details of the player with the highest predicted overall value\n",
    "highest_player_details = df.iloc[X_test.index[highest_index]]\n",
    "\n",
    "# Print details of the player with the highest predicted overall value\n",
    "print(\"Details of the player with the highest predicted overall value:\")\n",
    "print(highest_player_details)"
   ]
  },
  {
   "cell_type": "code",
   "execution_count": 27,
   "id": "747cf085",
   "metadata": {},
   "outputs": [
    {
     "name": "stdout",
     "output_type": "stream",
     "text": [
      "Details of the top three Indian players with the highest predicted overall value:\n",
      "          Known As             Full Name  Overall  Potential  Value(in Euro)  \\\n",
      "5         V. Kaith          Vishal Kaith       57         60          170000   \n",
      "2  A. Bhattacharya  Arindam Bhattacharya       61         61          160000   \n",
      "1         A. Singh        Amrinder Singh       61         63          275000   \n",
      "\n",
      "  Positions Played Best Position Nationality  \\\n",
      "5               GK            GK       India   \n",
      "2               GK            GK       India   \n",
      "1               GK            GK       India   \n",
      "\n",
      "                                         Image Link  Age  ...  LM Rating  \\\n",
      "5  https://cdn.sofifa.net/players/245/164/23_60.png   25  ...         21   \n",
      "2  https://cdn.sofifa.net/players/193/913/23_60.png   32  ...         31   \n",
      "1  https://cdn.sofifa.net/players/223/760/23_60.png   29  ...         30   \n",
      "\n",
      "   CM Rating  RM Rating  LWB Rating CDM Rating  RWB Rating  LB Rating  \\\n",
      "5         21         21          20         21          20         20   \n",
      "2         38         31          29         34          29         27   \n",
      "1         29         30          29         29          29         28   \n",
      "\n",
      "  CB Rating  RB Rating  GK Rating  \n",
      "5        22         20         58  \n",
      "2        28         27         61  \n",
      "1        28         28         62  \n",
      "\n",
      "[3 rows x 89 columns]\n"
     ]
    }
   ],
   "source": [
    "# Filter the original dataframe for Indian players\n",
    "indian_players_df = df[df['Nationality'] == 'India']\n",
    "\n",
    "# Get the indices of Indian players in the original dataframe\n",
    "indian_players_indices = indian_players_df.index.tolist()\n",
    "\n",
    "# Filter the predictions to only include Indian players from the test set\n",
    "indian_players_predictions = y_pred[X_test.index.isin(indian_players_indices)]\n",
    "\n",
    "if len(indian_players_predictions) > 0:\n",
    "    # Sort the Indian players' predictions and indices in descending order\n",
    "    sorted_indices = sorted(range(len(indian_players_predictions)), key=lambda i: indian_players_predictions[i], reverse=True)[:3]\n",
    "\n",
    "    # Retrieve the indices of the top three players among Indian players\n",
    "    top_three_indices = [indian_players_indices[i] for i in sorted_indices]\n",
    "\n",
    "    # Retrieve the details of the top three Indian players with the highest predicted overall value\n",
    "    top_three_indian_players = df.iloc[top_three_indices]\n",
    "\n",
    "    # Print details of the top three Indian players with the highest predicted overall value\n",
    "    print(\"Details of the top three Indian players with the highest predicted overall value:\")\n",
    "    print(top_three_indian_players)\n",
    "else:\n",
    "    print(\"No Indian players in the test set.\")"
   ]
  },
  {
   "cell_type": "code",
   "execution_count": null,
   "id": "0ee9e60a",
   "metadata": {},
   "outputs": [],
   "source": []
  },
  {
   "cell_type": "code",
   "execution_count": null,
   "id": "992dd471",
   "metadata": {},
   "outputs": [],
   "source": []
  }
 ],
 "metadata": {
  "kernelspec": {
   "display_name": "Python 3 (ipykernel)",
   "language": "python",
   "name": "python3"
  },
  "language_info": {
   "codemirror_mode": {
    "name": "ipython",
    "version": 3
   },
   "file_extension": ".py",
   "mimetype": "text/x-python",
   "name": "python",
   "nbconvert_exporter": "python",
   "pygments_lexer": "ipython3",
   "version": "3.11.5"
  }
 },
 "nbformat": 4,
 "nbformat_minor": 5
}
